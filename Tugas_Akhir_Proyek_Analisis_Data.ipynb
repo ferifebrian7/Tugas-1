{
  "nbformat": 4,
  "nbformat_minor": 0,
  "metadata": {
    "colab": {
      "provenance": [],
      "gpuType": "T4"
    },
    "kernelspec": {
      "name": "python3",
      "display_name": "Python 3"
    },
    "language_info": {
      "name": "python"
    },
    "accelerator": "GPU"
  },
  "cells": [
    {
      "cell_type": "markdown",
      "source": [
        "# Proyek Analisis Data: Nama Dataset\n",
        "\n",
        "*   Nama: Feri Dwi Febrianto\n",
        "*   Email: ferifebian678@gmail.com\n",
        "*   ID Dicoding: feridwifebrianto\n",
        "*   Dataset: PRSA_Data_Aotizhongxin_20130301-20170228.csv\n"
      ],
      "metadata": {
        "id": "OHPqy2qZzG9h"
      }
    },
    {
      "cell_type": "markdown",
      "source": [
        "# Menentukan Pertanyaan Bisnis\n",
        "*   Pertanyaan 1: Tampilkan visualisasi dan analisis dari parameter RAIN\n",
        "*   Pertanyaan 2: Tampilkan visualisasi dan analisis dari parameter TEMP\n",
        "\n"
      ],
      "metadata": {
        "id": "32wTv7V9z-Ro"
      }
    },
    {
      "cell_type": "markdown",
      "source": [
        "# Menyiapkan semua library yang dibutuhkan"
      ],
      "metadata": {
        "id": "E4rk-ZDt0JMN"
      }
    },
    {
      "cell_type": "code",
      "source": [
        "# Mengimpor library yang diperlukan\n",
        "import pandas as pd\n",
        "import matplotlib.pyplot as plt\n",
        "from google.colab import files"
      ],
      "metadata": {
        "id": "N1GQltCR0fLp"
      },
      "execution_count": 2,
      "outputs": []
    },
    {
      "cell_type": "markdown",
      "source": [
        "# Data Wrangling"
      ],
      "metadata": {
        "id": "f2CB90sj0ffZ"
      }
    },
    {
      "cell_type": "markdown",
      "source": [
        "**Gathering Data**"
      ],
      "metadata": {
        "id": "Lp1E0C6a0wmK"
      }
    },
    {
      "cell_type": "code",
      "source": [
        "# Mengunggah file\n",
        "uploaded = files.upload()"
      ],
      "metadata": {
        "colab": {
          "base_uri": "https://localhost:8080/",
          "height": 73
        },
        "id": "GjPIduxh0zjm",
        "outputId": "27903496-3524-4d68-a571-40365e7891b5"
      },
      "execution_count": 4,
      "outputs": [
        {
          "output_type": "display_data",
          "data": {
            "text/plain": [
              "<IPython.core.display.HTML object>"
            ],
            "text/html": [
              "\n",
              "     <input type=\"file\" id=\"files-2a9128e0-bed6-4afe-9978-8145697d2e4d\" name=\"files[]\" multiple disabled\n",
              "        style=\"border:none\" />\n",
              "     <output id=\"result-2a9128e0-bed6-4afe-9978-8145697d2e4d\">\n",
              "      Upload widget is only available when the cell has been executed in the\n",
              "      current browser session. Please rerun this cell to enable.\n",
              "      </output>\n",
              "      <script>// Copyright 2017 Google LLC\n",
              "//\n",
              "// Licensed under the Apache License, Version 2.0 (the \"License\");\n",
              "// you may not use this file except in compliance with the License.\n",
              "// You may obtain a copy of the License at\n",
              "//\n",
              "//      http://www.apache.org/licenses/LICENSE-2.0\n",
              "//\n",
              "// Unless required by applicable law or agreed to in writing, software\n",
              "// distributed under the License is distributed on an \"AS IS\" BASIS,\n",
              "// WITHOUT WARRANTIES OR CONDITIONS OF ANY KIND, either express or implied.\n",
              "// See the License for the specific language governing permissions and\n",
              "// limitations under the License.\n",
              "\n",
              "/**\n",
              " * @fileoverview Helpers for google.colab Python module.\n",
              " */\n",
              "(function(scope) {\n",
              "function span(text, styleAttributes = {}) {\n",
              "  const element = document.createElement('span');\n",
              "  element.textContent = text;\n",
              "  for (const key of Object.keys(styleAttributes)) {\n",
              "    element.style[key] = styleAttributes[key];\n",
              "  }\n",
              "  return element;\n",
              "}\n",
              "\n",
              "// Max number of bytes which will be uploaded at a time.\n",
              "const MAX_PAYLOAD_SIZE = 100 * 1024;\n",
              "\n",
              "function _uploadFiles(inputId, outputId) {\n",
              "  const steps = uploadFilesStep(inputId, outputId);\n",
              "  const outputElement = document.getElementById(outputId);\n",
              "  // Cache steps on the outputElement to make it available for the next call\n",
              "  // to uploadFilesContinue from Python.\n",
              "  outputElement.steps = steps;\n",
              "\n",
              "  return _uploadFilesContinue(outputId);\n",
              "}\n",
              "\n",
              "// This is roughly an async generator (not supported in the browser yet),\n",
              "// where there are multiple asynchronous steps and the Python side is going\n",
              "// to poll for completion of each step.\n",
              "// This uses a Promise to block the python side on completion of each step,\n",
              "// then passes the result of the previous step as the input to the next step.\n",
              "function _uploadFilesContinue(outputId) {\n",
              "  const outputElement = document.getElementById(outputId);\n",
              "  const steps = outputElement.steps;\n",
              "\n",
              "  const next = steps.next(outputElement.lastPromiseValue);\n",
              "  return Promise.resolve(next.value.promise).then((value) => {\n",
              "    // Cache the last promise value to make it available to the next\n",
              "    // step of the generator.\n",
              "    outputElement.lastPromiseValue = value;\n",
              "    return next.value.response;\n",
              "  });\n",
              "}\n",
              "\n",
              "/**\n",
              " * Generator function which is called between each async step of the upload\n",
              " * process.\n",
              " * @param {string} inputId Element ID of the input file picker element.\n",
              " * @param {string} outputId Element ID of the output display.\n",
              " * @return {!Iterable<!Object>} Iterable of next steps.\n",
              " */\n",
              "function* uploadFilesStep(inputId, outputId) {\n",
              "  const inputElement = document.getElementById(inputId);\n",
              "  inputElement.disabled = false;\n",
              "\n",
              "  const outputElement = document.getElementById(outputId);\n",
              "  outputElement.innerHTML = '';\n",
              "\n",
              "  const pickedPromise = new Promise((resolve) => {\n",
              "    inputElement.addEventListener('change', (e) => {\n",
              "      resolve(e.target.files);\n",
              "    });\n",
              "  });\n",
              "\n",
              "  const cancel = document.createElement('button');\n",
              "  inputElement.parentElement.appendChild(cancel);\n",
              "  cancel.textContent = 'Cancel upload';\n",
              "  const cancelPromise = new Promise((resolve) => {\n",
              "    cancel.onclick = () => {\n",
              "      resolve(null);\n",
              "    };\n",
              "  });\n",
              "\n",
              "  // Wait for the user to pick the files.\n",
              "  const files = yield {\n",
              "    promise: Promise.race([pickedPromise, cancelPromise]),\n",
              "    response: {\n",
              "      action: 'starting',\n",
              "    }\n",
              "  };\n",
              "\n",
              "  cancel.remove();\n",
              "\n",
              "  // Disable the input element since further picks are not allowed.\n",
              "  inputElement.disabled = true;\n",
              "\n",
              "  if (!files) {\n",
              "    return {\n",
              "      response: {\n",
              "        action: 'complete',\n",
              "      }\n",
              "    };\n",
              "  }\n",
              "\n",
              "  for (const file of files) {\n",
              "    const li = document.createElement('li');\n",
              "    li.append(span(file.name, {fontWeight: 'bold'}));\n",
              "    li.append(span(\n",
              "        `(${file.type || 'n/a'}) - ${file.size} bytes, ` +\n",
              "        `last modified: ${\n",
              "            file.lastModifiedDate ? file.lastModifiedDate.toLocaleDateString() :\n",
              "                                    'n/a'} - `));\n",
              "    const percent = span('0% done');\n",
              "    li.appendChild(percent);\n",
              "\n",
              "    outputElement.appendChild(li);\n",
              "\n",
              "    const fileDataPromise = new Promise((resolve) => {\n",
              "      const reader = new FileReader();\n",
              "      reader.onload = (e) => {\n",
              "        resolve(e.target.result);\n",
              "      };\n",
              "      reader.readAsArrayBuffer(file);\n",
              "    });\n",
              "    // Wait for the data to be ready.\n",
              "    let fileData = yield {\n",
              "      promise: fileDataPromise,\n",
              "      response: {\n",
              "        action: 'continue',\n",
              "      }\n",
              "    };\n",
              "\n",
              "    // Use a chunked sending to avoid message size limits. See b/62115660.\n",
              "    let position = 0;\n",
              "    do {\n",
              "      const length = Math.min(fileData.byteLength - position, MAX_PAYLOAD_SIZE);\n",
              "      const chunk = new Uint8Array(fileData, position, length);\n",
              "      position += length;\n",
              "\n",
              "      const base64 = btoa(String.fromCharCode.apply(null, chunk));\n",
              "      yield {\n",
              "        response: {\n",
              "          action: 'append',\n",
              "          file: file.name,\n",
              "          data: base64,\n",
              "        },\n",
              "      };\n",
              "\n",
              "      let percentDone = fileData.byteLength === 0 ?\n",
              "          100 :\n",
              "          Math.round((position / fileData.byteLength) * 100);\n",
              "      percent.textContent = `${percentDone}% done`;\n",
              "\n",
              "    } while (position < fileData.byteLength);\n",
              "  }\n",
              "\n",
              "  // All done.\n",
              "  yield {\n",
              "    response: {\n",
              "      action: 'complete',\n",
              "    }\n",
              "  };\n",
              "}\n",
              "\n",
              "scope.google = scope.google || {};\n",
              "scope.google.colab = scope.google.colab || {};\n",
              "scope.google.colab._files = {\n",
              "  _uploadFiles,\n",
              "  _uploadFilesContinue,\n",
              "};\n",
              "})(self);\n",
              "</script> "
            ]
          },
          "metadata": {}
        },
        {
          "output_type": "stream",
          "name": "stdout",
          "text": [
            "Saving PRSA_Data_Aotizhongxin_20130301-20170228.csv to PRSA_Data_Aotizhongxin_20130301-20170228.csv\n"
          ]
        }
      ]
    },
    {
      "cell_type": "markdown",
      "source": [
        "**Assessing Data**"
      ],
      "metadata": {
        "id": "RM6KvYn70zrk"
      }
    },
    {
      "cell_type": "markdown",
      "source": [
        "Membaca data dari file CSV"
      ],
      "metadata": {
        "id": "9ULn4r-h7vCC"
      }
    },
    {
      "cell_type": "code",
      "source": [
        "# Membaca data dari file CSV\n",
        "for fn in uploaded.keys():\n",
        "  data = pd.read_csv(fn)"
      ],
      "metadata": {
        "id": "_PqBTrE7094I"
      },
      "execution_count": 5,
      "outputs": []
    },
    {
      "cell_type": "markdown",
      "source": [
        "Melihat 5 baris pertama dari data"
      ],
      "metadata": {
        "id": "aKjInyv98fpI"
      }
    },
    {
      "cell_type": "code",
      "source": [
        "# Melihat 5 baris pertama dari data\n",
        "print(data.head())"
      ],
      "metadata": {
        "colab": {
          "base_uri": "https://localhost:8080/"
        },
        "id": "l2R-aAYK8f8h",
        "outputId": "16e5ba64-c9bd-4fd1-b0b5-440416db680d"
      },
      "execution_count": 6,
      "outputs": [
        {
          "output_type": "stream",
          "name": "stdout",
          "text": [
            "   No  year  month  day  hour  PM2.5  PM10   SO2   NO2     CO    O3  TEMP  \\\n",
            "0   1  2013      3    1     0    4.0   4.0   4.0   7.0  300.0  77.0  -0.7   \n",
            "1   2  2013      3    1     1    8.0   8.0   4.0   7.0  300.0  77.0  -1.1   \n",
            "2   3  2013      3    1     2    7.0   7.0   5.0  10.0  300.0  73.0  -1.1   \n",
            "3   4  2013      3    1     3    6.0   6.0  11.0  11.0  300.0  72.0  -1.4   \n",
            "4   5  2013      3    1     4    3.0   3.0  12.0  12.0  300.0  72.0  -2.0   \n",
            "\n",
            "     PRES  DEWP  RAIN   wd  WSPM       station  \n",
            "0  1023.0 -18.8   0.0  NNW   4.4  Aotizhongxin  \n",
            "1  1023.2 -18.2   0.0    N   4.7  Aotizhongxin  \n",
            "2  1023.5 -18.2   0.0  NNW   5.6  Aotizhongxin  \n",
            "3  1024.5 -19.4   0.0   NW   3.1  Aotizhongxin  \n",
            "4  1025.2 -19.5   0.0    N   2.0  Aotizhongxin  \n"
          ]
        }
      ]
    },
    {
      "cell_type": "markdown",
      "source": [
        "Deskripsi statistik dari data"
      ],
      "metadata": {
        "id": "_TQPpvVp8qyO"
      }
    },
    {
      "cell_type": "code",
      "source": [
        "# Deskripsi statistik dari data\n",
        "print(data.describe())"
      ],
      "metadata": {
        "colab": {
          "base_uri": "https://localhost:8080/"
        },
        "id": "heh8sH1o8q7F",
        "outputId": "cc863006-7ae7-4e91-f6dc-95e4d38ba894"
      },
      "execution_count": 7,
      "outputs": [
        {
          "output_type": "stream",
          "name": "stdout",
          "text": [
            "                 No          year         month           day          hour  \\\n",
            "count  35064.000000  35064.000000  35064.000000  35064.000000  35064.000000   \n",
            "mean   17532.500000   2014.662560      6.522930     15.729637     11.500000   \n",
            "std    10122.249256      1.177213      3.448752      8.800218      6.922285   \n",
            "min        1.000000   2013.000000      1.000000      1.000000      0.000000   \n",
            "25%     8766.750000   2014.000000      4.000000      8.000000      5.750000   \n",
            "50%    17532.500000   2015.000000      7.000000     16.000000     11.500000   \n",
            "75%    26298.250000   2016.000000     10.000000     23.000000     17.250000   \n",
            "max    35064.000000   2017.000000     12.000000     31.000000     23.000000   \n",
            "\n",
            "              PM2.5          PM10           SO2           NO2            CO  \\\n",
            "count  34139.000000  34346.000000  34129.000000  34041.000000  33288.000000   \n",
            "mean      82.773611    110.060391     17.375901     59.305833   1262.945145   \n",
            "std       82.135694     95.223005     22.823017     37.116200   1221.436236   \n",
            "min        3.000000      2.000000      0.285600      2.000000    100.000000   \n",
            "25%       22.000000     38.000000      3.000000     30.000000    500.000000   \n",
            "50%       58.000000     87.000000      9.000000     53.000000    900.000000   \n",
            "75%      114.000000    155.000000     21.000000     82.000000   1500.000000   \n",
            "max      898.000000    984.000000    341.000000    290.000000  10000.000000   \n",
            "\n",
            "                 O3          TEMP          PRES          DEWP          RAIN  \\\n",
            "count  33345.000000  35044.000000  35044.000000  35044.000000  35044.000000   \n",
            "mean      56.353358     13.584607   1011.846920      3.123062      0.067421   \n",
            "std       57.916327     11.399097     10.404047     13.688896      0.910056   \n",
            "min        0.214200    -16.800000    985.900000    -35.300000      0.000000   \n",
            "25%        8.000000      3.100000   1003.300000     -8.100000      0.000000   \n",
            "50%       42.000000     14.500000   1011.400000      3.800000      0.000000   \n",
            "75%       82.000000     23.300000   1020.100000     15.600000      0.000000   \n",
            "max      423.000000     40.500000   1042.000000     28.500000     72.500000   \n",
            "\n",
            "               WSPM  \n",
            "count  35050.000000  \n",
            "mean       1.708496  \n",
            "std        1.204071  \n",
            "min        0.000000  \n",
            "25%        0.900000  \n",
            "50%        1.400000  \n",
            "75%        2.200000  \n",
            "max       11.200000  \n"
          ]
        }
      ]
    },
    {
      "cell_type": "markdown",
      "source": [
        "**Cleaning Data**"
      ],
      "metadata": {
        "id": "PDRg_rCC0-AQ"
      }
    },
    {
      "cell_type": "markdown",
      "source": [
        "Membaca Dataframe"
      ],
      "metadata": {
        "id": "Tlaxe3v084IL"
      }
    },
    {
      "cell_type": "code",
      "source": [
        "df = pd.DataFrame(data)"
      ],
      "metadata": {
        "id": "nz15qC9V-F0j"
      },
      "execution_count": 8,
      "outputs": []
    },
    {
      "cell_type": "markdown",
      "source": [
        "Menampilkan data awal"
      ],
      "metadata": {
        "id": "vsOBhFpP-OS3"
      }
    },
    {
      "cell_type": "code",
      "source": [
        "# Tampilkan data awal\n",
        "print(\"Data Awal:\")\n",
        "print(df)"
      ],
      "metadata": {
        "colab": {
          "base_uri": "https://localhost:8080/"
        },
        "id": "9oYDgsPW-Od-",
        "outputId": "bd08f0bb-a181-48e4-fcf3-94b99a1d13d6"
      },
      "execution_count": 9,
      "outputs": [
        {
          "output_type": "stream",
          "name": "stdout",
          "text": [
            "Data Awal:\n",
            "          No  year  month  day  hour  PM2.5  PM10   SO2   NO2     CO    O3  \\\n",
            "0          1  2013      3    1     0    4.0   4.0   4.0   7.0  300.0  77.0   \n",
            "1          2  2013      3    1     1    8.0   8.0   4.0   7.0  300.0  77.0   \n",
            "2          3  2013      3    1     2    7.0   7.0   5.0  10.0  300.0  73.0   \n",
            "3          4  2013      3    1     3    6.0   6.0  11.0  11.0  300.0  72.0   \n",
            "4          5  2013      3    1     4    3.0   3.0  12.0  12.0  300.0  72.0   \n",
            "...      ...   ...    ...  ...   ...    ...   ...   ...   ...    ...   ...   \n",
            "35059  35060  2017      2   28    19   12.0  29.0   5.0  35.0  400.0  95.0   \n",
            "35060  35061  2017      2   28    20   13.0  37.0   7.0  45.0  500.0  81.0   \n",
            "35061  35062  2017      2   28    21   16.0  37.0  10.0  66.0  700.0  58.0   \n",
            "35062  35063  2017      2   28    22   21.0  44.0  12.0  87.0  700.0  35.0   \n",
            "35063  35064  2017      2   28    23   19.0  31.0  10.0  79.0  600.0  42.0   \n",
            "\n",
            "       TEMP    PRES  DEWP  RAIN   wd  WSPM       station  \n",
            "0      -0.7  1023.0 -18.8   0.0  NNW   4.4  Aotizhongxin  \n",
            "1      -1.1  1023.2 -18.2   0.0    N   4.7  Aotizhongxin  \n",
            "2      -1.1  1023.5 -18.2   0.0  NNW   5.6  Aotizhongxin  \n",
            "3      -1.4  1024.5 -19.4   0.0   NW   3.1  Aotizhongxin  \n",
            "4      -2.0  1025.2 -19.5   0.0    N   2.0  Aotizhongxin  \n",
            "...     ...     ...   ...   ...  ...   ...           ...  \n",
            "35059  12.5  1013.5 -16.2   0.0   NW   2.4  Aotizhongxin  \n",
            "35060  11.6  1013.6 -15.1   0.0  WNW   0.9  Aotizhongxin  \n",
            "35061  10.8  1014.2 -13.3   0.0   NW   1.1  Aotizhongxin  \n",
            "35062  10.5  1014.4 -12.9   0.0  NNW   1.2  Aotizhongxin  \n",
            "35063   8.6  1014.1 -15.9   0.0  NNE   1.3  Aotizhongxin  \n",
            "\n",
            "[35064 rows x 18 columns]\n"
          ]
        }
      ]
    },
    {
      "cell_type": "markdown",
      "source": [
        "Menghapus baris yang memiliki nilai kosong(NaN)"
      ],
      "metadata": {
        "id": "uewhBe0R-UKs"
      }
    },
    {
      "cell_type": "code",
      "source": [
        "# Hapus baris yang memiliki nilai kosong (NaN)\n",
        "df_cleaned = df.dropna()"
      ],
      "metadata": {
        "id": "Ss-uYJm8-UUE"
      },
      "execution_count": 10,
      "outputs": []
    },
    {
      "cell_type": "markdown",
      "source": [
        "Menampilkan data setelah dibersihkan"
      ],
      "metadata": {
        "id": "voe-5qHu-aMQ"
      }
    },
    {
      "cell_type": "code",
      "source": [
        "# Tampilkan data setelah dibersihkan\n",
        "print(\"\\nData Setelah Dibersihkan:\")\n",
        "print(df_cleaned)"
      ],
      "metadata": {
        "colab": {
          "base_uri": "https://localhost:8080/"
        },
        "id": "xR-N7H49-aVW",
        "outputId": "950eb29e-1e2a-4b68-a5b3-99702a69c1de"
      },
      "execution_count": 11,
      "outputs": [
        {
          "output_type": "stream",
          "name": "stdout",
          "text": [
            "\n",
            "Data Setelah Dibersihkan:\n",
            "          No  year  month  day  hour  PM2.5  PM10   SO2   NO2     CO    O3  \\\n",
            "0          1  2013      3    1     0    4.0   4.0   4.0   7.0  300.0  77.0   \n",
            "1          2  2013      3    1     1    8.0   8.0   4.0   7.0  300.0  77.0   \n",
            "2          3  2013      3    1     2    7.0   7.0   5.0  10.0  300.0  73.0   \n",
            "3          4  2013      3    1     3    6.0   6.0  11.0  11.0  300.0  72.0   \n",
            "4          5  2013      3    1     4    3.0   3.0  12.0  12.0  300.0  72.0   \n",
            "...      ...   ...    ...  ...   ...    ...   ...   ...   ...    ...   ...   \n",
            "35059  35060  2017      2   28    19   12.0  29.0   5.0  35.0  400.0  95.0   \n",
            "35060  35061  2017      2   28    20   13.0  37.0   7.0  45.0  500.0  81.0   \n",
            "35061  35062  2017      2   28    21   16.0  37.0  10.0  66.0  700.0  58.0   \n",
            "35062  35063  2017      2   28    22   21.0  44.0  12.0  87.0  700.0  35.0   \n",
            "35063  35064  2017      2   28    23   19.0  31.0  10.0  79.0  600.0  42.0   \n",
            "\n",
            "       TEMP    PRES  DEWP  RAIN   wd  WSPM       station  \n",
            "0      -0.7  1023.0 -18.8   0.0  NNW   4.4  Aotizhongxin  \n",
            "1      -1.1  1023.2 -18.2   0.0    N   4.7  Aotizhongxin  \n",
            "2      -1.1  1023.5 -18.2   0.0  NNW   5.6  Aotizhongxin  \n",
            "3      -1.4  1024.5 -19.4   0.0   NW   3.1  Aotizhongxin  \n",
            "4      -2.0  1025.2 -19.5   0.0    N   2.0  Aotizhongxin  \n",
            "...     ...     ...   ...   ...  ...   ...           ...  \n",
            "35059  12.5  1013.5 -16.2   0.0   NW   2.4  Aotizhongxin  \n",
            "35060  11.6  1013.6 -15.1   0.0  WNW   0.9  Aotizhongxin  \n",
            "35061  10.8  1014.2 -13.3   0.0   NW   1.1  Aotizhongxin  \n",
            "35062  10.5  1014.4 -12.9   0.0  NNW   1.2  Aotizhongxin  \n",
            "35063   8.6  1014.1 -15.9   0.0  NNE   1.3  Aotizhongxin  \n",
            "\n",
            "[31815 rows x 18 columns]\n"
          ]
        }
      ]
    },
    {
      "cell_type": "markdown",
      "source": [
        "# Exploratory Data Analysis (EDA)"
      ],
      "metadata": {
        "id": "m4pp7s4Q1Dwp"
      }
    },
    {
      "cell_type": "markdown",
      "source": [
        "Explore"
      ],
      "metadata": {
        "id": "HWa_jDTz1QfN"
      }
    },
    {
      "cell_type": "code",
      "source": [
        "# Tampilkan statistik deskriptif\n",
        "print(\"\\nStatistik Deskriptif:\")\n",
        "print(df.describe(include='all'))"
      ],
      "metadata": {
        "colab": {
          "base_uri": "https://localhost:8080/"
        },
        "id": "Ly5BPARr1LTT",
        "outputId": "162f0ea3-48ac-4c0e-f46c-fc9b1efc9809"
      },
      "execution_count": 12,
      "outputs": [
        {
          "output_type": "stream",
          "name": "stdout",
          "text": [
            "\n",
            "Statistik Deskriptif:\n",
            "                  No          year         month           day          hour  \\\n",
            "count   35064.000000  35064.000000  35064.000000  35064.000000  35064.000000   \n",
            "unique           NaN           NaN           NaN           NaN           NaN   \n",
            "top              NaN           NaN           NaN           NaN           NaN   \n",
            "freq             NaN           NaN           NaN           NaN           NaN   \n",
            "mean    17532.500000   2014.662560      6.522930     15.729637     11.500000   \n",
            "std     10122.249256      1.177213      3.448752      8.800218      6.922285   \n",
            "min         1.000000   2013.000000      1.000000      1.000000      0.000000   \n",
            "25%      8766.750000   2014.000000      4.000000      8.000000      5.750000   \n",
            "50%     17532.500000   2015.000000      7.000000     16.000000     11.500000   \n",
            "75%     26298.250000   2016.000000     10.000000     23.000000     17.250000   \n",
            "max     35064.000000   2017.000000     12.000000     31.000000     23.000000   \n",
            "\n",
            "               PM2.5          PM10           SO2           NO2            CO  \\\n",
            "count   34139.000000  34346.000000  34129.000000  34041.000000  33288.000000   \n",
            "unique           NaN           NaN           NaN           NaN           NaN   \n",
            "top              NaN           NaN           NaN           NaN           NaN   \n",
            "freq             NaN           NaN           NaN           NaN           NaN   \n",
            "mean       82.773611    110.060391     17.375901     59.305833   1262.945145   \n",
            "std        82.135694     95.223005     22.823017     37.116200   1221.436236   \n",
            "min         3.000000      2.000000      0.285600      2.000000    100.000000   \n",
            "25%        22.000000     38.000000      3.000000     30.000000    500.000000   \n",
            "50%        58.000000     87.000000      9.000000     53.000000    900.000000   \n",
            "75%       114.000000    155.000000     21.000000     82.000000   1500.000000   \n",
            "max       898.000000    984.000000    341.000000    290.000000  10000.000000   \n",
            "\n",
            "                  O3          TEMP          PRES          DEWP          RAIN  \\\n",
            "count   33345.000000  35044.000000  35044.000000  35044.000000  35044.000000   \n",
            "unique           NaN           NaN           NaN           NaN           NaN   \n",
            "top              NaN           NaN           NaN           NaN           NaN   \n",
            "freq             NaN           NaN           NaN           NaN           NaN   \n",
            "mean       56.353358     13.584607   1011.846920      3.123062      0.067421   \n",
            "std        57.916327     11.399097     10.404047     13.688896      0.910056   \n",
            "min         0.214200    -16.800000    985.900000    -35.300000      0.000000   \n",
            "25%         8.000000      3.100000   1003.300000     -8.100000      0.000000   \n",
            "50%        42.000000     14.500000   1011.400000      3.800000      0.000000   \n",
            "75%        82.000000     23.300000   1020.100000     15.600000      0.000000   \n",
            "max       423.000000     40.500000   1042.000000     28.500000     72.500000   \n",
            "\n",
            "           wd          WSPM       station  \n",
            "count   34983  35050.000000         35064  \n",
            "unique     16           NaN             1  \n",
            "top        NE           NaN  Aotizhongxin  \n",
            "freq     5140           NaN         35064  \n",
            "mean      NaN      1.708496           NaN  \n",
            "std       NaN      1.204071           NaN  \n",
            "min       NaN      0.000000           NaN  \n",
            "25%       NaN      0.900000           NaN  \n",
            "50%       NaN      1.400000           NaN  \n",
            "75%       NaN      2.200000           NaN  \n",
            "max       NaN     11.200000           NaN  \n"
          ]
        }
      ]
    },
    {
      "cell_type": "markdown",
      "source": [
        "# Visualization & Explanatory Analysis"
      ],
      "metadata": {
        "id": "voTrxhK01LZ-"
      }
    },
    {
      "cell_type": "markdown",
      "source": [
        "Menampilkan visualisasi data"
      ],
      "metadata": {
        "id": "eezRGghE1cKb"
      }
    },
    {
      "cell_type": "code",
      "source": [
        "# Visualisasi data\n",
        "data.hist()\n",
        "plt.show()"
      ],
      "metadata": {
        "colab": {
          "base_uri": "https://localhost:8080/",
          "height": 452
        },
        "id": "zmELatKK1cU9",
        "outputId": "38a16103-5a89-4b1c-a1cc-d898849177d1"
      },
      "execution_count": 13,
      "outputs": [
        {
          "output_type": "display_data",
          "data": {
            "text/plain": [
              "<Figure size 640x480 with 16 Axes>"
            ],
            "image/png": "[encoded data removed]"
          },
          "metadata": {}
        }
      ]
    },
    {
      "cell_type": "markdown",
      "source": [
        "Pertanyaan 1:"
      ],
      "metadata": {
        "id": "L_wdxCVo1cdV"
      }
    },
    {
      "cell_type": "code",
      "source": [
        "# Analisis kualitas air\n",
        "# Misalnya, kita ingin menganalisis parameter RAIN\n",
        "ph = data['RAIN']\n",
        "print(ph.describe())\n",
        "ph.hist()\n",
        "plt.title('Distribusi RAIN')\n",
        "plt.show()"
      ],
      "metadata": {
        "colab": {
          "base_uri": "https://localhost:8080/",
          "height": 608
        },
        "id": "4NP_HOGb1coJ",
        "outputId": "dc9a484d-7b4c-42d7-f67e-dd7c8aaae2d8"
      },
      "execution_count": 14,
      "outputs": [
        {
          "output_type": "stream",
          "name": "stdout",
          "text": [
            "count    35044.000000\n",
            "mean         0.067421\n",
            "std          0.910056\n",
            "min          0.000000\n",
            "25%          0.000000\n",
            "50%          0.000000\n",
            "75%          0.000000\n",
            "max         72.500000\n",
            "Name: RAIN, dtype: float64\n"
          ]
        },
        {
          "output_type": "display_data",
          "data": {
            "text/plain": [
              "<Figure size 640x480 with 1 Axes>"
            ],
            "image/png": "[encoded data removed]"
          },
          "metadata": {}
        }
      ]
    },
    {
      "cell_type": "markdown",
      "source": [
        "Pertanyaan 2:"
      ],
      "metadata": {
        "id": "G3fwOEcfApkr"
      }
    },
    {
      "cell_type": "code",
      "source": [
        "# Analisis kualitas air\n",
        "# Misalnya, kita ingin menganalisis parameter TEMP\n",
        "ph = data['TEMP']\n",
        "print(ph.describe())\n",
        "ph.hist()\n",
        "plt.title('Distribusi TEMP')\n",
        "plt.show()"
      ],
      "metadata": {
        "colab": {
          "base_uri": "https://localhost:8080/",
          "height": 608
        },
        "id": "HvVzGzhSAqL-",
        "outputId": "d1948d67-6306-4575-bffc-8e219b474dc5"
      },
      "execution_count": 15,
      "outputs": [
        {
          "output_type": "stream",
          "name": "stdout",
          "text": [
            "count    35044.000000\n",
            "mean        13.584607\n",
            "std         11.399097\n",
            "min        -16.800000\n",
            "25%          3.100000\n",
            "50%         14.500000\n",
            "75%         23.300000\n",
            "max         40.500000\n",
            "Name: TEMP, dtype: float64\n"
          ]
        },
        {
          "output_type": "display_data",
          "data": {
            "text/plain": [
              "<Figure size 640x480 with 1 Axes>"
            ],
            "image/png": "[encoded data removed]"
          },
          "metadata": {}
        }
      ]
    },
    {
      "cell_type": "markdown",
      "source": [
        "# Conclusion\n",
        "*   Conclusion 1: Nilai distribusi RAIN tertinggi sebesar 35000\n",
        "*   Conclusion 2: Nilai distribusi TEMP tertinggi sebesar 6000\n",
        "\n",
        "\n"
      ],
      "metadata": {
        "id": "DC2EVzm412CH"
      }
    }
  ]
}